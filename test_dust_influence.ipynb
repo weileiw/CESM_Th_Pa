{
 "cells": [
  {
   "cell_type": "code",
   "execution_count": 29,
   "metadata": {},
   "outputs": [],
   "source": [
    "import matplotlib.pyplot as plt\n",
    "from scipy.io import loadmat, whosmat\n",
    "import sys\n",
    "import os.path\n",
    "import numpy as np\n",
    "from scipy.stats import linregress"
   ]
  },
  {
   "cell_type": "code",
   "execution_count": 30,
   "metadata": {},
   "outputs": [],
   "source": [
    "# set figure output directory\n",
    "figure_dir = os.path.expanduser('figure_output')\n",
    "## data name\n",
    "file1 = 'run004_90x180x24.mat'\n",
    "file2 = 'run005_90x180x24.mat'"
   ]
  },
  {
   "cell_type": "code",
   "execution_count": 31,
   "metadata": {},
   "outputs": [],
   "source": [
    "D1 = loadmat(file1)\n",
    "D2 = loadmat(file2)"
   ]
  },
  {
   "cell_type": "code",
   "execution_count": 32,
   "metadata": {},
   "outputs": [],
   "source": [
    "Pa004 = D1['Pa231']\n",
    "Th004 = D1['Th230']\n",
    "# get rid of invalid values\n",
    "Pa004 = np.ma.masked_invalid(Pa004)\n",
    "Th004 = np.ma.masked_invalid(Th004)\n",
    "# compress the data to 2D vectors\n",
    "Pa004 = np.ma.compressed(Pa004)\n",
    "Th004 = np.ma.compressed(Th004)"
   ]
  },
  {
   "cell_type": "code",
   "execution_count": 33,
   "metadata": {},
   "outputs": [],
   "source": [
    "Pa005 = D2['Pa231']\n",
    "Th005 = D2['Th230']\n",
    "# get rid of invalid values\n",
    "Pa005 = np.ma.masked_invalid(Pa005)\n",
    "Th005 = np.ma.masked_invalid(Th005)\n",
    "# compress the data to 2D vectors\n",
    "Pa005 = np.ma.compressed(Pa005)\n",
    "Th005 = np.ma.compressed(Th005)"
   ]
  },
  {
   "cell_type": "code",
   "execution_count": 36,
   "metadata": {},
   "outputs": [
    {
     "data": {
      "image/png": "[encoded data removed]",
      "text/plain": [
       "<matplotlib.figure.Figure at 0x18152057b8>"
      ]
     },
     "metadata": {},
     "output_type": "display_data"
    }
   ],
   "source": [
    "# make plot\n",
    "fig,(ax1,ax2) = plt.subplots(figsize=(12, 6), nrows=1,ncols =2)\n",
    "ax1.scatter(Pa004, Pa005, s=2, c=\"g\", alpha=1.0, label='Pa-231')\n",
    "# ax1.plot([0,4],[0,4])\n",
    "\n",
    "ax1.set_xlim(0,4)\n",
    "ax1.set_ylim(0,4)\n",
    "# ax1.set_title(runname + ' ' +'$^{231}$Pa')\n",
    "ax1.set_xlabel('with dust source $^{231}$Pa')\n",
    "ax1.set_ylabel('w/o dust source $^{231}$Pa')\n",
    "ax1.legend()\n",
    "\n",
    "####\n",
    "ax2.scatter(Th004, Th005, s=4, c=\"g\", alpha=1.0, label='Th-230')\n",
    "# ax2.plot([0,15],[0,15])\n",
    "\n",
    "ax2.set_xlim(0,15)\n",
    "ax2.set_ylim(0,15)\n",
    "# ax2.set_title(runname + ' ' +'$^{230}$Th')\n",
    "ax2.set_xlabel('with dust source $^{230}$Th')\n",
    "ax2.set_ylabel('w/o dust source $^{230}$Th')\n",
    "ax2.legend()\n",
    "\n",
    "figure_name = 'dust_impact_on_Th230_Pa231.png'\n",
    "saved_name = os.path.join(figure_dir, figure_name)\n",
    "plt.savefig(saved_name)\n",
    "plt.show()"
   ]
  },
  {
   "cell_type": "code",
   "execution_count": null,
   "metadata": {},
   "outputs": [],
   "source": []
  }
 ],
 "metadata": {
  "kernelspec": {
   "display_name": "Python 3",
   "language": "python",
   "name": "python3"
  },
  "language_info": {
   "codemirror_mode": {
    "name": "ipython",
    "version": 3
   },
   "file_extension": ".py",
   "mimetype": "text/x-python",
   "name": "python",
   "nbconvert_exporter": "python",
   "pygments_lexer": "ipython3",
   "version": "3.5.4"
  }
 },
 "nbformat": 4,
 "nbformat_minor": 2
}
